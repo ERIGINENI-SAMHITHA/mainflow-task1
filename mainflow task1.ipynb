{
 "cells": [
  {
   "cell_type": "code",
   "execution_count": 1,
   "id": "6fe88f14-b858-4c63-b08a-4bf1da61e3b4",
   "metadata": {},
   "outputs": [
    {
     "name": "stdout",
     "output_type": "stream",
     "text": [
      "Updated list: [10, 2, 4, 5, 6]\n"
     ]
    }
   ],
   "source": [
    "mylist=[1,2,3,4,5]\n",
    "mylist.append(6)\n",
    "mylist.remove(3)\n",
    "mylist[0]=10\n",
    "print(\"Updated list:\",mylist)"
   ]
  },
  {
   "cell_type": "code",
   "execution_count": 2,
   "id": "7d257d8e-9d84-4458-b08c-57819c7f8ad5",
   "metadata": {},
   "outputs": [
    {
     "name": "stdout",
     "output_type": "stream",
     "text": [
      "Updated Dict: {'Name': 'samhita', 'City': 'Visakhapatnam', 'Gender': 'female'}\n"
     ]
    }
   ],
   "source": [
    "mydict={'Name':'samhita','Age':19,'City':'Vizag'}\n",
    "mydict['Gender']='female'\n",
    "del mydict['Age']\n",
    "mydict['City']='Visakhapatnam'\n",
    "print(\"Updated Dict:\",mydict)"
   ]
  },
  {
   "cell_type": "code",
   "execution_count": 3,
   "id": "a29e4d26-9bc7-49e5-bbb8-0f87da2d430f",
   "metadata": {},
   "outputs": [
    {
     "name": "stdout",
     "output_type": "stream",
     "text": [
      "Updated Set: {2, 4, 5, 6}\n"
     ]
    }
   ],
   "source": [
    "myset={1,2,3,4,5}\n",
    "myset.add(6)\n",
    "myset.remove(3)\n",
    "myset.discard(1)\n",
    "print('Updated Set:',myset)"
   ]
  },
  {
   "cell_type": "code",
   "execution_count": null,
   "id": "2d632b20-aa90-46f0-8dd6-e1775d5cab55",
   "metadata": {},
   "outputs": [],
   "source": []
  }
 ],
 "metadata": {
  "kernelspec": {
   "display_name": "Python 3 (ipykernel)",
   "language": "python",
   "name": "python3"
  },
  "language_info": {
   "codemirror_mode": {
    "name": "ipython",
    "version": 3
   },
   "file_extension": ".py",
   "mimetype": "text/x-python",
   "name": "python",
   "nbconvert_exporter": "python",
   "pygments_lexer": "ipython3",
   "version": "3.11.7"
  }
 },
 "nbformat": 4,
 "nbformat_minor": 5
}
